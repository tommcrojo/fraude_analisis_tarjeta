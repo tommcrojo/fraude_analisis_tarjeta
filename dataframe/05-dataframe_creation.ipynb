{
 "cells": [
  {
   "cell_type": "code",
   "execution_count": 27,
   "id": "7f69b60a-c463-4383-9e00-3793fa6e2c39",
   "metadata": {},
   "outputs": [],
   "source": [
    "import pandas as pd\n",
    "import numpy as np\n",
    "import matplotlib.pyplot as plt"
   ]
  },
  {
   "cell_type": "code",
   "execution_count": 1,
   "id": "eb58ae73-bd46-42a8-88c4-66e220d7e247",
   "metadata": {},
   "outputs": [],
   "source": [
    "# Creación de usuarios e IDs.\n",
    "num_users = 2000\n",
    "user_ids = [f'user_{i}' for i in range(1, num_users + 1)]\n",
    "\n",
    "# A cada usuario le asignamos de una a 20 transacciones durante el periodo\n",
    "transactions_per_user = np.random.randint(1, 21, size=num_users)\n",
    "\n",
    "# Tenemos que expandir los "user_id" para que sean repetidos en todas las transacciones hechas por un mismo usuario.\n",
    "user_ids_expanded = np.repeat(user_ids, transactions_per_user)\n"
   ]
  },
  {
   "cell_type": "code",
   "execution_count": 7,
   "id": "c2731707-3d29-4a34-ace8-f8cc127dbee2",
   "metadata": {},
   "outputs": [],
   "source": [
   "# Para poder hacer un análisis geográfico, creamos una lista ponderada de las provincias donde se pueden haber realizado los posibles fraudes.\n",
    "provinces = ['Madrid', 'Barcelona', 'Valencia', 'Sevilla', 'Alicante', 'Málaga', 'Murcia', 'Cádiz', 'Baleares', 'Vizcaya', 'Las Palmas', 'La Coruña', 'Santa Cruz de Tenerife', 'Asturias', 'Zaragoza', 'Pontevedra', 'Granada', 'Tarragona', 'Córdoba', 'Gerona', 'Guipúzcoa', 'Almería', 'Toledo', 'Badajoz', 'Navarra', 'Jaén', 'Castellón', 'Cantabria', 'Valladolid', 'Ciudad Real', 'Huelva', 'León', 'Lérida', 'Cáceres', 'Albacete', 'Burgos', 'Salamanca', 'Lugo', 'La Rioja', 'Orense', 'Álava', 'Guadalajara', 'Huesca', 'Cuenca', 'Zamora', 'Palencia', 'Ávila', 'Segovia', 'Teruel', 'Soria', 'Ceuta', 'Melilla']\n",
    "province_weights = [0.1425, 0.1213, 0.0547, 0.0412, 0.0397, 0.0356, 0.0319, 0.0263, 0.0247, 0.0245, 0.0239, 0.0237, 0.0221, 0.0215, 0.0205, 0.0200, 0.0195, 0.0170, 0.0165, 0.0165, 0.0154, 0.0154, 0.0149, 0.0142, 0.0140, 0.0133, 0.0122, 0.0123, 0.0110, 0.0105, 0.0110, 0.0096, 0.0091, 0.0083, 0.0082, 0.0076, 0.0070, 0.0069, 0.0068, 0.0065, 0.0066, 0.0055, 0.0047, 0.0041, 0.0036, 0.0034, 0.0033, 0.0032, 0.0024, 0.0019, 0.0018, 0.0017]\n",
    "assigned_provinces = np.random.choice(provinces, size=len(user_ids_expanded), p=province_weights)\n"
   ]
  },
  {
   "cell_type": "code",
   "execution_count": 8,
   "id": "d843d87d-25ef-4ba4-811f-d554e19c9423",
   "metadata": {},
   "outputs": [],
   "source": [
    "transaction_methods = ['Online', 'Contactless', 'Physical Card']\n",
    "method_weights = [0.5, 0.3, 0.2]\n",
    "\n",
    "# Asignamos el método de pago a cada transacción\n",
    "assigned_methods = np.random.choice(transaction_methods, size=len(user_ids_expanded), p=method_weights)\n"
   ]
  },
  {
   "cell_type": "code",
   "execution_count": 11,
   "id": "ec47a56d-4a3a-41a9-ab83-a01a3b321d22",
   "metadata": {},
   "outputs": [],
   "source": [
    "card_types = ['Mastercard', 'Visa', 'American Express', 'Discover']\n",
    "card_weights = [0.5, 0.44, 0.05, 0.01]\n",
    "\n",
    "# Ahora, asignamos el tipo de tarjeta de crédito que fueron usadas.\n",
    "assigned_card_types = np.random.choice(card_types, size=len(user_ids_expanded), p=card_weights)\n"
   ]
  },
  {
   "cell_type": "code",
   "execution_count": 9,
   "id": "9618feaf-d9e5-42cc-92d8-90ccdce27615",
   "metadata": {},
   "outputs": [],
   "source": [
    "# Cantidad aleatoria de cada transacción entre 5€ y 5.000€\n",
    "transaction_amounts = np.round(np.random.uniform(5, 5000, size=len(user_ids_expanded)), 2)\n",
    "\n",
    "# Random timestamps within a specific range\n",
    "date_range = pd.date_range(start='2024-05-01', end='2024-06-01', periods=len(user_ids_expanded))\n",
    "transaction_times = np.random.choice(date_range, size=len(user_ids_expanded))\n"
   ]
  },
  {
   "cell_type": "code",
   "execution_count": 19,
   "id": "fc6141a3-1f2d-4994-85bd-8a3e41c01c95",
   "metadata": {},
   "outputs": [
    {
     "data": {
      "text/html": [
       "<div>\n",
       "<style scoped>\n",
       "    .dataframe tbody tr th:only-of-type {\n",
       "        vertical-align: middle;\n",
       "    }\n",
       "\n",
       "    .dataframe tbody tr th {\n",
       "        vertical-align: top;\n",
       "    }\n",
       "\n",
       "    .dataframe thead th {\n",
       "        text-align: right;\n",
       "    }\n",
       "</style>\n",
       "<table border=\"1\" class=\"dataframe\">\n",
       "  <thead>\n",
       "    <tr style=\"text-align: right;\">\n",
       "      <th></th>\n",
       "      <th>client_id</th>\n",
       "      <th>province</th>\n",
       "      <th>transaction_method</th>\n",
       "      <th>card_type</th>\n",
       "      <th>amount(eur)</th>\n",
       "      <th>time</th>\n",
       "    </tr>\n",
       "  </thead>\n",
       "  <tbody>\n",
       "    <tr>\n",
       "      <th>0</th>\n",
       "      <td>user_1944</td>\n",
       "      <td>Huesca</td>\n",
       "      <td>Contactless</td>\n",
       "      <td>Mastercard</td>\n",
       "      <td>3,007.29</td>\n",
       "      <td>2024-05-25 16:03:45.999810910</td>\n",
       "    </tr>\n",
       "    <tr>\n",
       "      <th>1</th>\n",
       "      <td>user_1507</td>\n",
       "      <td>Almería</td>\n",
       "      <td>Physical Card</td>\n",
       "      <td>American Express</td>\n",
       "      <td>3,705.81</td>\n",
       "      <td>2024-05-26 04:05:28.108159213</td>\n",
       "    </tr>\n",
       "    <tr>\n",
       "      <th>2</th>\n",
       "      <td>user_291</td>\n",
       "      <td>Cantabria</td>\n",
       "      <td>Online</td>\n",
       "      <td>Visa</td>\n",
       "      <td>3,667.66</td>\n",
       "      <td>2024-05-04 04:27:39.601021083</td>\n",
       "    </tr>\n",
       "    <tr>\n",
       "      <th>3</th>\n",
       "      <td>user_1033</td>\n",
       "      <td>Asturias</td>\n",
       "      <td>Online</td>\n",
       "      <td>Mastercard</td>\n",
       "      <td>3,842.60</td>\n",
       "      <td>2024-05-09 18:19:13.824335823</td>\n",
       "    </tr>\n",
       "    <tr>\n",
       "      <th>4</th>\n",
       "      <td>user_1724</td>\n",
       "      <td>Barcelona</td>\n",
       "      <td>Online</td>\n",
       "      <td>Visa</td>\n",
       "      <td>692.52</td>\n",
       "      <td>2024-05-01 13:49:19.440294979</td>\n",
       "    </tr>\n",
       "    <tr>\n",
       "      <th>...</th>\n",
       "      <td>...</td>\n",
       "      <td>...</td>\n",
       "      <td>...</td>\n",
       "      <td>...</td>\n",
       "      <td>...</td>\n",
       "      <td>...</td>\n",
       "    </tr>\n",
       "    <tr>\n",
       "      <th>21150</th>\n",
       "      <td>user_436</td>\n",
       "      <td>Valencia</td>\n",
       "      <td>Physical Card</td>\n",
       "      <td>Mastercard</td>\n",
       "      <td>960.31</td>\n",
       "      <td>2024-05-03 00:30:01.191264063</td>\n",
       "    </tr>\n",
       "    <tr>\n",
       "      <th>21151</th>\n",
       "      <td>user_263</td>\n",
       "      <td>Madrid</td>\n",
       "      <td>Contactless</td>\n",
       "      <td>Mastercard</td>\n",
       "      <td>676.65</td>\n",
       "      <td>2024-05-18 20:43:48.949607639</td>\n",
       "    </tr>\n",
       "    <tr>\n",
       "      <th>21152</th>\n",
       "      <td>user_1542</td>\n",
       "      <td>Barcelona</td>\n",
       "      <td>Online</td>\n",
       "      <td>Visa</td>\n",
       "      <td>3,236.69</td>\n",
       "      <td>2024-05-22 00:12:23.348775645</td>\n",
       "    </tr>\n",
       "    <tr>\n",
       "      <th>21153</th>\n",
       "      <td>user_1375</td>\n",
       "      <td>Madrid</td>\n",
       "      <td>Online</td>\n",
       "      <td>Visa</td>\n",
       "      <td>3,761.50</td>\n",
       "      <td>2024-05-02 07:39:12.916706060</td>\n",
       "    </tr>\n",
       "    <tr>\n",
       "      <th>21154</th>\n",
       "      <td>user_167</td>\n",
       "      <td>Lugo</td>\n",
       "      <td>Online</td>\n",
       "      <td>Visa</td>\n",
       "      <td>1,035.14</td>\n",
       "      <td>2024-05-04 20:13:02.830670322</td>\n",
       "    </tr>\n",
       "  </tbody>\n",
       "</table>\n",
       "<p>21155 rows × 6 columns</p>\n",
       "</div>"
      ],
      "text/plain": [
       "       client_id   province transaction_method         card_type  amount(eur)  \\\n",
       "0      user_1944     Huesca        Contactless        Mastercard     3,007.29   \n",
       "1      user_1507    Almería      Physical Card  American Express     3,705.81   \n",
       "2       user_291  Cantabria             Online              Visa     3,667.66   \n",
       "3      user_1033   Asturias             Online        Mastercard     3,842.60   \n",
       "4      user_1724  Barcelona             Online              Visa       692.52   \n",
       "...          ...        ...                ...               ...          ...   \n",
       "21150   user_436   Valencia      Physical Card        Mastercard       960.31   \n",
       "21151   user_263     Madrid        Contactless        Mastercard       676.65   \n",
       "21152  user_1542  Barcelona             Online              Visa     3,236.69   \n",
       "21153  user_1375     Madrid             Online              Visa     3,761.50   \n",
       "21154   user_167       Lugo             Online              Visa     1,035.14   \n",
       "\n",
       "                               time  \n",
       "0     2024-05-25 16:03:45.999810910  \n",
       "1     2024-05-26 04:05:28.108159213  \n",
       "2     2024-05-04 04:27:39.601021083  \n",
       "3     2024-05-09 18:19:13.824335823  \n",
       "4     2024-05-01 13:49:19.440294979  \n",
       "...                             ...  \n",
       "21150 2024-05-03 00:30:01.191264063  \n",
       "21151 2024-05-18 20:43:48.949607639  \n",
       "21152 2024-05-22 00:12:23.348775645  \n",
       "21153 2024-05-02 07:39:12.916706060  \n",
       "21154 2024-05-04 20:13:02.830670322  \n",
       "\n",
       "[21155 rows x 6 columns]"
      ]
     },
     "execution_count": 19,
     "metadata": {},
     "output_type": "execute_result"
    }
   ],
   "source": [
    "df = pd.DataFrame({\n",
    "    'client_id': user_ids_expanded,\n",
    "    'province': assigned_provinces,\n",
    "    'transaction_method': assigned_methods,\n",
    "    'card_type': assigned_card_types,\n",
    "    'amount(eur)': transaction_amounts,\n",
    "    'time': transaction_times\n",
    "})\n",
    "\n",
    "# Shuffle the DataFrame to randomize the order\n",
    "df = df.sample(frac=1).reset_index(drop=True)\n",
    "pd.options.display.float_format = \"{:,.2f}\".format\n",
    "df"
   ]
  },
  {
   "cell_type": "code",
   "execution_count": 22,
   "id": "935c37e6-1e8b-4cd1-9852-83f30b042f64",
   "metadata": {},
   "outputs": [],
   "source": [
    "df.to_csv('05-transacciones_tarjeta.csv', index=True)"
   ]
  },
  {
   "cell_type": "code",
   "execution_count": 34,
   "id": "cbbe070f-8daf-47ca-a842-9d1a545f44c5",
   "metadata": {},
   "outputs": [
    {
     "ename": "KeyError",
     "evalue": "('amount(eur)', 'province', 'client_id')",
     "output_type": "error",
     "traceback": [
      "\u001b[1;31m---------------------------------------------------------------------------\u001b[0m",
      "\u001b[1;31mKeyError\u001b[0m                                  Traceback (most recent call last)",
      "File \u001b[1;32m~\\anaconda3\\Lib\\site-packages\\pandas\\core\\indexes\\base.py:3805\u001b[0m, in \u001b[0;36mIndex.get_loc\u001b[1;34m(self, key)\u001b[0m\n\u001b[0;32m   3804\u001b[0m \u001b[38;5;28;01mtry\u001b[39;00m:\n\u001b[1;32m-> 3805\u001b[0m     \u001b[38;5;28;01mreturn\u001b[39;00m \u001b[38;5;28mself\u001b[39m\u001b[38;5;241m.\u001b[39m_engine\u001b[38;5;241m.\u001b[39mget_loc(casted_key)\n\u001b[0;32m   3806\u001b[0m \u001b[38;5;28;01mexcept\u001b[39;00m \u001b[38;5;167;01mKeyError\u001b[39;00m \u001b[38;5;28;01mas\u001b[39;00m err:\n",
      "File \u001b[1;32mindex.pyx:167\u001b[0m, in \u001b[0;36mpandas._libs.index.IndexEngine.get_loc\u001b[1;34m()\u001b[0m\n",
      "File \u001b[1;32mindex.pyx:196\u001b[0m, in \u001b[0;36mpandas._libs.index.IndexEngine.get_loc\u001b[1;34m()\u001b[0m\n",
      "File \u001b[1;32mpandas\\\\_libs\\\\hashtable_class_helper.pxi:7081\u001b[0m, in \u001b[0;36mpandas._libs.hashtable.PyObjectHashTable.get_item\u001b[1;34m()\u001b[0m\n",
      "File \u001b[1;32mpandas\\\\_libs\\\\hashtable_class_helper.pxi:7089\u001b[0m, in \u001b[0;36mpandas._libs.hashtable.PyObjectHashTable.get_item\u001b[1;34m()\u001b[0m\n",
      "\u001b[1;31mKeyError\u001b[0m: ('amount(eur)', 'province', 'client_id')",
      "\nThe above exception was the direct cause of the following exception:\n",
      "\u001b[1;31mKeyError\u001b[0m                                  Traceback (most recent call last)",
      "Cell \u001b[1;32mIn[34], line 1\u001b[0m\n\u001b[1;32m----> 1\u001b[0m df_plot\u001b[38;5;241m=\u001b[39mdf[\u001b[38;5;124m\"\u001b[39m\u001b[38;5;124mamount(eur)\u001b[39m\u001b[38;5;124m\"\u001b[39m,\u001b[38;5;124m\"\u001b[39m\u001b[38;5;124mprovince\u001b[39m\u001b[38;5;124m\"\u001b[39m,\u001b[38;5;124m\"\u001b[39m\u001b[38;5;124mclient_id\u001b[39m\u001b[38;5;124m\"\u001b[39m]\n",
      "File \u001b[1;32m~\\anaconda3\\Lib\\site-packages\\pandas\\core\\frame.py:4102\u001b[0m, in \u001b[0;36mDataFrame.__getitem__\u001b[1;34m(self, key)\u001b[0m\n\u001b[0;32m   4100\u001b[0m \u001b[38;5;28;01mif\u001b[39;00m \u001b[38;5;28mself\u001b[39m\u001b[38;5;241m.\u001b[39mcolumns\u001b[38;5;241m.\u001b[39mnlevels \u001b[38;5;241m>\u001b[39m \u001b[38;5;241m1\u001b[39m:\n\u001b[0;32m   4101\u001b[0m     \u001b[38;5;28;01mreturn\u001b[39;00m \u001b[38;5;28mself\u001b[39m\u001b[38;5;241m.\u001b[39m_getitem_multilevel(key)\n\u001b[1;32m-> 4102\u001b[0m indexer \u001b[38;5;241m=\u001b[39m \u001b[38;5;28mself\u001b[39m\u001b[38;5;241m.\u001b[39mcolumns\u001b[38;5;241m.\u001b[39mget_loc(key)\n\u001b[0;32m   4103\u001b[0m \u001b[38;5;28;01mif\u001b[39;00m is_integer(indexer):\n\u001b[0;32m   4104\u001b[0m     indexer \u001b[38;5;241m=\u001b[39m [indexer]\n",
      "File \u001b[1;32m~\\anaconda3\\Lib\\site-packages\\pandas\\core\\indexes\\base.py:3812\u001b[0m, in \u001b[0;36mIndex.get_loc\u001b[1;34m(self, key)\u001b[0m\n\u001b[0;32m   3807\u001b[0m     \u001b[38;5;28;01mif\u001b[39;00m \u001b[38;5;28misinstance\u001b[39m(casted_key, \u001b[38;5;28mslice\u001b[39m) \u001b[38;5;129;01mor\u001b[39;00m (\n\u001b[0;32m   3808\u001b[0m         \u001b[38;5;28misinstance\u001b[39m(casted_key, abc\u001b[38;5;241m.\u001b[39mIterable)\n\u001b[0;32m   3809\u001b[0m         \u001b[38;5;129;01mand\u001b[39;00m \u001b[38;5;28many\u001b[39m(\u001b[38;5;28misinstance\u001b[39m(x, \u001b[38;5;28mslice\u001b[39m) \u001b[38;5;28;01mfor\u001b[39;00m x \u001b[38;5;129;01min\u001b[39;00m casted_key)\n\u001b[0;32m   3810\u001b[0m     ):\n\u001b[0;32m   3811\u001b[0m         \u001b[38;5;28;01mraise\u001b[39;00m InvalidIndexError(key)\n\u001b[1;32m-> 3812\u001b[0m     \u001b[38;5;28;01mraise\u001b[39;00m \u001b[38;5;167;01mKeyError\u001b[39;00m(key) \u001b[38;5;28;01mfrom\u001b[39;00m \u001b[38;5;21;01merr\u001b[39;00m\n\u001b[0;32m   3813\u001b[0m \u001b[38;5;28;01mexcept\u001b[39;00m \u001b[38;5;167;01mTypeError\u001b[39;00m:\n\u001b[0;32m   3814\u001b[0m     \u001b[38;5;66;03m# If we have a listlike key, _check_indexing_error will raise\u001b[39;00m\n\u001b[0;32m   3815\u001b[0m     \u001b[38;5;66;03m#  InvalidIndexError. Otherwise we fall through and re-raise\u001b[39;00m\n\u001b[0;32m   3816\u001b[0m     \u001b[38;5;66;03m#  the TypeError.\u001b[39;00m\n\u001b[0;32m   3817\u001b[0m     \u001b[38;5;28mself\u001b[39m\u001b[38;5;241m.\u001b[39m_check_indexing_error(key)\n",
      "\u001b[1;31mKeyError\u001b[0m: ('amount(eur)', 'province', 'client_id')"
     ]
    }
   ],
   "source": [
    "df_plot=df[\"amount(eur)\",\"province\",\"client_id\"]"
   ]
  },
  {
   "cell_type": "code",
   "execution_count": 33,
   "id": "e8f5366c-0a74-4422-9fe2-fe7aff2b9a14",
   "metadata": {},
   "outputs": [
    {
     "ename": "KeyError",
     "evalue": "('amount(eur)', 'province', 'client_id')",
     "output_type": "error",
     "traceback": [
      "\u001b[1;31m---------------------------------------------------------------------------\u001b[0m",
      "\u001b[1;31mKeyError\u001b[0m                                  Traceback (most recent call last)",
      "File \u001b[1;32m~\\anaconda3\\Lib\\site-packages\\pandas\\core\\indexes\\base.py:3805\u001b[0m, in \u001b[0;36mIndex.get_loc\u001b[1;34m(self, key)\u001b[0m\n\u001b[0;32m   3804\u001b[0m \u001b[38;5;28;01mtry\u001b[39;00m:\n\u001b[1;32m-> 3805\u001b[0m     \u001b[38;5;28;01mreturn\u001b[39;00m \u001b[38;5;28mself\u001b[39m\u001b[38;5;241m.\u001b[39m_engine\u001b[38;5;241m.\u001b[39mget_loc(casted_key)\n\u001b[0;32m   3806\u001b[0m \u001b[38;5;28;01mexcept\u001b[39;00m \u001b[38;5;167;01mKeyError\u001b[39;00m \u001b[38;5;28;01mas\u001b[39;00m err:\n",
      "File \u001b[1;32mindex.pyx:167\u001b[0m, in \u001b[0;36mpandas._libs.index.IndexEngine.get_loc\u001b[1;34m()\u001b[0m\n",
      "File \u001b[1;32mindex.pyx:196\u001b[0m, in \u001b[0;36mpandas._libs.index.IndexEngine.get_loc\u001b[1;34m()\u001b[0m\n",
      "File \u001b[1;32mpandas\\\\_libs\\\\hashtable_class_helper.pxi:7081\u001b[0m, in \u001b[0;36mpandas._libs.hashtable.PyObjectHashTable.get_item\u001b[1;34m()\u001b[0m\n",
      "File \u001b[1;32mpandas\\\\_libs\\\\hashtable_class_helper.pxi:7089\u001b[0m, in \u001b[0;36mpandas._libs.hashtable.PyObjectHashTable.get_item\u001b[1;34m()\u001b[0m\n",
      "\u001b[1;31mKeyError\u001b[0m: ('amount(eur)', 'province', 'client_id')",
      "\nThe above exception was the direct cause of the following exception:\n",
      "\u001b[1;31mKeyError\u001b[0m                                  Traceback (most recent call last)",
      "Cell \u001b[1;32mIn[33], line 1\u001b[0m\n\u001b[1;32m----> 1\u001b[0m plt\u001b[38;5;241m.\u001b[39mboxplot(df[\u001b[38;5;124m\"\u001b[39m\u001b[38;5;124mamount(eur)\u001b[39m\u001b[38;5;124m\"\u001b[39m,\u001b[38;5;124m\"\u001b[39m\u001b[38;5;124mprovince\u001b[39m\u001b[38;5;124m\"\u001b[39m,\u001b[38;5;124m\"\u001b[39m\u001b[38;5;124mclient_id\u001b[39m\u001b[38;5;124m\"\u001b[39m])  \u001b[38;5;66;03m# Replace 'data' with your actual dataset\u001b[39;00m\n\u001b[0;32m      2\u001b[0m plt\u001b[38;5;241m.\u001b[39mxlabel(\u001b[38;5;124m\"\u001b[39m\u001b[38;5;124mclient_id\u001b[39m\u001b[38;5;124m\"\u001b[39m)  \u001b[38;5;66;03m# Customize the x-axis label\u001b[39;00m\n\u001b[0;32m      3\u001b[0m plt\u001b[38;5;241m.\u001b[39mylabel(\u001b[38;5;124m\"\u001b[39m\u001b[38;5;124mamount(eur)\u001b[39m\u001b[38;5;124m\"\u001b[39m)  \u001b[38;5;66;03m# Customize the y-axis label\u001b[39;00m\n",
      "File \u001b[1;32m~\\anaconda3\\Lib\\site-packages\\pandas\\core\\frame.py:4102\u001b[0m, in \u001b[0;36mDataFrame.__getitem__\u001b[1;34m(self, key)\u001b[0m\n\u001b[0;32m   4100\u001b[0m \u001b[38;5;28;01mif\u001b[39;00m \u001b[38;5;28mself\u001b[39m\u001b[38;5;241m.\u001b[39mcolumns\u001b[38;5;241m.\u001b[39mnlevels \u001b[38;5;241m>\u001b[39m \u001b[38;5;241m1\u001b[39m:\n\u001b[0;32m   4101\u001b[0m     \u001b[38;5;28;01mreturn\u001b[39;00m \u001b[38;5;28mself\u001b[39m\u001b[38;5;241m.\u001b[39m_getitem_multilevel(key)\n\u001b[1;32m-> 4102\u001b[0m indexer \u001b[38;5;241m=\u001b[39m \u001b[38;5;28mself\u001b[39m\u001b[38;5;241m.\u001b[39mcolumns\u001b[38;5;241m.\u001b[39mget_loc(key)\n\u001b[0;32m   4103\u001b[0m \u001b[38;5;28;01mif\u001b[39;00m is_integer(indexer):\n\u001b[0;32m   4104\u001b[0m     indexer \u001b[38;5;241m=\u001b[39m [indexer]\n",
      "File \u001b[1;32m~\\anaconda3\\Lib\\site-packages\\pandas\\core\\indexes\\base.py:3812\u001b[0m, in \u001b[0;36mIndex.get_loc\u001b[1;34m(self, key)\u001b[0m\n\u001b[0;32m   3807\u001b[0m     \u001b[38;5;28;01mif\u001b[39;00m \u001b[38;5;28misinstance\u001b[39m(casted_key, \u001b[38;5;28mslice\u001b[39m) \u001b[38;5;129;01mor\u001b[39;00m (\n\u001b[0;32m   3808\u001b[0m         \u001b[38;5;28misinstance\u001b[39m(casted_key, abc\u001b[38;5;241m.\u001b[39mIterable)\n\u001b[0;32m   3809\u001b[0m         \u001b[38;5;129;01mand\u001b[39;00m \u001b[38;5;28many\u001b[39m(\u001b[38;5;28misinstance\u001b[39m(x, \u001b[38;5;28mslice\u001b[39m) \u001b[38;5;28;01mfor\u001b[39;00m x \u001b[38;5;129;01min\u001b[39;00m casted_key)\n\u001b[0;32m   3810\u001b[0m     ):\n\u001b[0;32m   3811\u001b[0m         \u001b[38;5;28;01mraise\u001b[39;00m InvalidIndexError(key)\n\u001b[1;32m-> 3812\u001b[0m     \u001b[38;5;28;01mraise\u001b[39;00m \u001b[38;5;167;01mKeyError\u001b[39;00m(key) \u001b[38;5;28;01mfrom\u001b[39;00m \u001b[38;5;21;01merr\u001b[39;00m\n\u001b[0;32m   3813\u001b[0m \u001b[38;5;28;01mexcept\u001b[39;00m \u001b[38;5;167;01mTypeError\u001b[39;00m:\n\u001b[0;32m   3814\u001b[0m     \u001b[38;5;66;03m# If we have a listlike key, _check_indexing_error will raise\u001b[39;00m\n\u001b[0;32m   3815\u001b[0m     \u001b[38;5;66;03m#  InvalidIndexError. Otherwise we fall through and re-raise\u001b[39;00m\n\u001b[0;32m   3816\u001b[0m     \u001b[38;5;66;03m#  the TypeError.\u001b[39;00m\n\u001b[0;32m   3817\u001b[0m     \u001b[38;5;28mself\u001b[39m\u001b[38;5;241m.\u001b[39m_check_indexing_error(key)\n",
      "\u001b[1;31mKeyError\u001b[0m: ('amount(eur)', 'province', 'client_id')"
     ]
    }
   ],
   "source": [
    "plt.boxplot(df[\"amount(eur)\",\"province\",\"client_id\"])  # Replace 'data' with your actual dataset\n",
    "plt.xlabel(\"client_id\")  # Customize the x-axis label\n",
    "plt.ylabel(\"amount(eur)\")  # Customize the y-axis label\n",
    "plt.title(\"Boxplot Example\")  # Customize the plot title\n",
    "plt.show()  "
   ]
  },
  {
   "cell_type": "code",
   "execution_count": null,
   "id": "8dd4a7b5-fa1b-4fc8-ae0e-f3bfae592eca",
   "metadata": {},
   "outputs": [],
   "source": []
  },
  {
   "cell_type": "code",
   "execution_count": null,
   "id": "ffd76efa-8966-4fbb-8ef8-9dc4472357ff",
   "metadata": {},
   "outputs": [],
   "source": []
  },
  {
   "cell_type": "code",
   "execution_count": null,
   "id": "c6079fe5-92e3-478c-a6a0-9e3a5b85d707",
   "metadata": {},
   "outputs": [],
   "source": []
  },
  {
   "cell_type": "code",
   "execution_count": null,
   "id": "559987b4-5ae1-4b72-a78a-87ba4a13401a",
   "metadata": {},
   "outputs": [],
   "source": []
  },
  {
   "cell_type": "code",
   "execution_count": null,
   "id": "6e46d3e5-4efc-4807-a806-605db419d2aa",
   "metadata": {},
   "outputs": [],
   "source": []
  },
  {
   "cell_type": "code",
   "execution_count": null,
   "id": "f308917a-197f-4284-875d-1ffc6d171966",
   "metadata": {},
   "outputs": [],
   "source": []
  },
  {
   "cell_type": "code",
   "execution_count": null,
   "id": "5a4609e9-9f28-428d-88af-18886b86d801",
   "metadata": {},
   "outputs": [],
   "source": []
  },
  {
   "cell_type": "code",
   "execution_count": null,
   "id": "1bacb7f7-6a43-4e1e-97b5-d5fbd10f56a8",
   "metadata": {},
   "outputs": [],
   "source": []
  },
  {
   "cell_type": "code",
   "execution_count": null,
   "id": "7d058839-a3c4-4494-827e-f437ca73a7a9",
   "metadata": {},
   "outputs": [],
   "source": []
  },
  {
   "cell_type": "code",
   "execution_count": null,
   "id": "6988b2b1-b17e-4207-ab96-941a9819c3aa",
   "metadata": {},
   "outputs": [],
   "source": []
  },
  {
   "cell_type": "code",
   "execution_count": null,
   "id": "d1754b9c-de53-4b1e-8791-d48f4dced927",
   "metadata": {},
   "outputs": [],
   "source": []
  },
  {
   "cell_type": "code",
   "execution_count": null,
   "id": "f08c5c1b-9bd9-45d5-b288-986ec763308e",
   "metadata": {},
   "outputs": [],
   "source": []
  },
  {
   "cell_type": "code",
   "execution_count": null,
   "id": "f48bdb87-1fa8-4801-b07b-982ea2c4afb9",
   "metadata": {},
   "outputs": [],
   "source": []
  },
  {
   "cell_type": "code",
   "execution_count": null,
   "id": "b4e05a40-2073-4fe6-a8ff-3706b1715655",
   "metadata": {},
   "outputs": [],
   "source": []
  },
  {
   "cell_type": "code",
   "execution_count": null,
   "id": "7a3111f2-a107-46b2-a4c9-7fb7db50b125",
   "metadata": {},
   "outputs": [],
   "source": []
  },
  {
   "cell_type": "code",
   "execution_count": null,
   "id": "47b85be0-682b-4274-abb0-40ed01ccc93b",
   "metadata": {},
   "outputs": [],
   "source": []
  },
  {
   "cell_type": "code",
   "execution_count": null,
   "id": "87f4c05d-4f44-40ac-a3ab-48b367226e66",
   "metadata": {},
   "outputs": [],
   "source": []
  },
  {
   "cell_type": "code",
   "execution_count": null,
   "id": "fb8b40f5-1772-4eba-8cf2-fd4cf9429ec6",
   "metadata": {},
   "outputs": [],
   "source": []
  },
  {
   "cell_type": "code",
   "execution_count": null,
   "id": "75e20481-9bf2-4c6f-b48c-3230b79b7312",
   "metadata": {},
   "outputs": [],
   "source": []
  },
  {
   "cell_type": "code",
   "execution_count": null,
   "id": "5da2efd6-b631-448a-b518-6317a5a3a0fe",
   "metadata": {},
   "outputs": [],
   "source": []
  },
  {
   "cell_type": "code",
   "execution_count": null,
   "id": "69bfe08c-ee80-4214-b2dc-ef5c93284518",
   "metadata": {},
   "outputs": [],
   "source": []
  },
  {
   "cell_type": "code",
   "execution_count": null,
   "id": "30d10efb-6fff-4209-a901-92351801acc6",
   "metadata": {},
   "outputs": [],
   "source": []
  }
 ],
 "metadata": {
  "kernelspec": {
   "display_name": "Python 3 (ipykernel)",
   "language": "python",
   "name": "python3"
  },
  "language_info": {
   "codemirror_mode": {
    "name": "ipython",
    "version": 3
   },
   "file_extension": ".py",
   "mimetype": "text/x-python",
   "name": "python",
   "nbconvert_exporter": "python",
   "pygments_lexer": "ipython3",
   "version": "3.12.4"
  }
 },
 "nbformat": 4,
 "nbformat_minor": 5
}
